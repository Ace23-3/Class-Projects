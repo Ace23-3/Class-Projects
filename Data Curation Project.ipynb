{
 "cells": [
  {
   "cell_type": "markdown",
   "id": "8de994a5",
   "metadata": {},
   "source": [
    "# Data Curation & Management – Final Exam\n",
    "**Semester:** Spring 2025  **Generated:** 2025‑04‑23 17:22\n",
    "\n",
    "**Student name:** <your name here>\n",
    "\n",
    "Complete each question in the order given. **Do not delete** any rubric headers marked with 💯 — they are used for grading.\n",
    "Place any additional code or markdown cells *below* the relevant header.\n",
    "\n",
    "### Final Project Requirements:\n",
    "1. The code must run - if any part of the code throws an error, the final will receive a zero grade\n",
    "2. The code must run in order.  At no time will the kernal need to be restarted or will the grader be required to \"go backwards to go forwards\".\n",
    "    3. The grader will select Kernel>Restart Kernel and run all cells.  There should be no reason for that to cause an error\n",
    "    4. Exception: The grader will have to adjust for the reference to the Kagglehub file only\n",
    "3. Quality of work is paramount.  Simple results and basic findings will not receive an A.  In other words, the more inspection of the data, the better the grade.\n"
   ]
  },
  {
   "cell_type": "markdown",
   "id": "11283e54-e84a-439d-bf14-263f2c5e3b98",
   "metadata": {},
   "source": [
    "# Final Project Data Selection:\n",
    "\n",
    "You are now tasked with taking all that you have learned and applying it to a dataset.  For your final project, you will take on the role of a data analyst.  You are tasked with providing data insights and findings based on one of the four data sets found from Kagglehub.\n",
    "\n",
    "*Note: You can only use one of these four datasets:*\n",
    "\n",
    "* <a href='https://www.kaggle.com/datasets/bhargavchirumamilla/netflix-movies-and-tv-shows-till-2025'>Netflix Movies & TV Shows (till 2025) </a>\n",
    "* <a href='https://www.kaggle.com/datasets/apoorvaappz/global-super-store-dataset'>Global Superstore</a>\n",
    "* <a href='https://www.kaggle.com/datasets/ajaypalsinghlo/world-happiness-report-2024'>World Happiness Report 2024</a>\n",
    "* <a href='https://www.kaggle.com/datasets/gitadityamaddali/flipkart-laptop-reviews'>Flipkart/Laptop Reviews (sentiment)</a>\n",
    "\n",
    "The final project is not just about good code.  Its about using your data analytical mindset to uncover and present findings.  Therefore, basic descriptive statistics and simple aggregations will not suffice.  You are expected to inspect the data, ask probing questions of it, and then present the results, both visually and in a table-based output."
   ]
  },
  {
   "cell_type": "markdown",
   "id": "0109ab86-12da-4ba6-a4eb-92086c26e0e1",
   "metadata": {},
   "source": [
    "# Q0 Imports\n",
    "\n",
    "Imports are started here.  If you are using other imports, make sure to include them in the code block below."
   ]
  },
  {
   "cell_type": "code",
   "execution_count": 1,
   "id": "3af554e0-793a-4ae0-89fc-0239e279a395",
   "metadata": {},
   "outputs": [],
   "source": [
    "# Core data wrangling\n",
    "import pandas as pd\n",
    "import numpy as np\n",
    "\n",
    "# Visualization\n",
    "import matplotlib.pyplot as plt\n",
    "import seaborn as sns\n",
    "\n",
    "# Text / sentiment analysis (if the dataset has free-text fields)\n",
    "from textblob import TextBlob\n",
    "\n",
    "# SQLite persistence\n",
    "import sqlite3\n",
    "from sqlalchemy import create_engine, text\n",
    "\n",
    "# Dataset download via KaggleHub\n",
    "import kagglehub\n",
    "\n",
    "# File-system convenience (optional but handy)\n",
    "from pathlib import Path\n"
   ]
  },
  {
   "cell_type": "markdown",
   "id": "42d9d66c",
   "metadata": {},
   "source": [
    "## Q1  Dataset selection 💯 (10 pts)"
   ]
  },
  {
   "cell_type": "markdown",
   "id": "eda13be4",
   "metadata": {},
   "source": [
    "Write 5–8 sentences addressing:\n",
    "1. Dataset name & Kaggle URL\n",
    "2. Three columns you anticipate using most\n",
    "3. Why you have chosen this dataset?\n",
    "5. Why this dataset can support ≥3 substantive findings\n",
    "\n",
    "*Replace this markdown with your answer.*"
   ]
  },
  {
   "cell_type": "code",
   "execution_count": null,
   "id": "69a70304-93c8-41a3-afb5-4be7e510ae02",
   "metadata": {},
   "outputs": [],
   "source": [
    "#The dataset selected is named Global Superstore or Global_Superstore2.csv. URL: (https://www.kaggle.com/datasets/apoorvaappz/global-super-store-dataset?resource=download). The three columns I anticipate to use most are profit, sub-category and segment. Profit allows me to evaluate overall business performance and determine what is actually getting earning versus losses. Sub-category allows me to view performaces by different product types and view trends acrooos the different types. Segement provides detsils into trends and values of different customer groups like consumers, corporate, home office etc. I chose this dataset because it offers a real world view of retail operations acroess multiple countries, with detailed attributes related to sales, cutomers, products etc. It contains multiple variables that interact in meaningful ways, allowing for cross-dimensional analysis across time, regions, products, and customer types. Its size, variety, and level of detail enable the discovery of more than three substantive insights, as it supports in-depth comparisons, pattern recognition, and trend analysis across different aspects of the business.   "
   ]
  },
  {
   "cell_type": "markdown",
   "id": "7fe35bbd",
   "metadata": {},
   "source": [
    "## Q2  ETL pipeline 💯 (25 pts)"
   ]
  },
  {
   "cell_type": "markdown",
   "id": "efa02edd",
   "metadata": {},
   "source": [
    "Follow the sub‑sections below. Each must run top‑to‑bottom on a fresh kernel. After `Kernel ▸ Restart & Run All` the notebook must complete without manual intervention (except editing the DATA_PATH cell above).\n"
   ]
  },
  {
   "cell_type": "markdown",
   "id": "e9fdb748",
   "metadata": {},
   "source": [
    "### 2a Extract"
   ]
  },
  {
   "cell_type": "code",
   "execution_count": 2,
   "id": "55d57e53",
   "metadata": {},
   "outputs": [
    {
     "data": {
      "text/html": [
       "<div>\n",
       "<style scoped>\n",
       "    .dataframe tbody tr th:only-of-type {\n",
       "        vertical-align: middle;\n",
       "    }\n",
       "\n",
       "    .dataframe tbody tr th {\n",
       "        vertical-align: top;\n",
       "    }\n",
       "\n",
       "    .dataframe thead th {\n",
       "        text-align: right;\n",
       "    }\n",
       "</style>\n",
       "<table border=\"1\" class=\"dataframe\">\n",
       "  <thead>\n",
       "    <tr style=\"text-align: right;\">\n",
       "      <th></th>\n",
       "      <th>Row ID</th>\n",
       "      <th>Order ID</th>\n",
       "      <th>Order Date</th>\n",
       "      <th>Ship Date</th>\n",
       "      <th>Ship Mode</th>\n",
       "      <th>Customer ID</th>\n",
       "      <th>Customer Name</th>\n",
       "      <th>Segment</th>\n",
       "      <th>City</th>\n",
       "      <th>State</th>\n",
       "      <th>...</th>\n",
       "      <th>Product ID</th>\n",
       "      <th>Category</th>\n",
       "      <th>Sub-Category</th>\n",
       "      <th>Product Name</th>\n",
       "      <th>Sales</th>\n",
       "      <th>Quantity</th>\n",
       "      <th>Discount</th>\n",
       "      <th>Profit</th>\n",
       "      <th>Shipping Cost</th>\n",
       "      <th>Order Priority</th>\n",
       "    </tr>\n",
       "  </thead>\n",
       "  <tbody>\n",
       "    <tr>\n",
       "      <th>0</th>\n",
       "      <td>32298</td>\n",
       "      <td>CA-2012-124891</td>\n",
       "      <td>31-07-2012</td>\n",
       "      <td>31-07-2012</td>\n",
       "      <td>Same Day</td>\n",
       "      <td>RH-19495</td>\n",
       "      <td>Rick Hansen</td>\n",
       "      <td>Consumer</td>\n",
       "      <td>New York City</td>\n",
       "      <td>New York</td>\n",
       "      <td>...</td>\n",
       "      <td>TEC-AC-10003033</td>\n",
       "      <td>Technology</td>\n",
       "      <td>Accessories</td>\n",
       "      <td>Plantronics CS510 - Over-the-Head monaural Wir...</td>\n",
       "      <td>2309.650</td>\n",
       "      <td>7</td>\n",
       "      <td>0.0</td>\n",
       "      <td>762.1845</td>\n",
       "      <td>933.57</td>\n",
       "      <td>Critical</td>\n",
       "    </tr>\n",
       "    <tr>\n",
       "      <th>1</th>\n",
       "      <td>26341</td>\n",
       "      <td>IN-2013-77878</td>\n",
       "      <td>05-02-2013</td>\n",
       "      <td>07-02-2013</td>\n",
       "      <td>Second Class</td>\n",
       "      <td>JR-16210</td>\n",
       "      <td>Justin Ritter</td>\n",
       "      <td>Corporate</td>\n",
       "      <td>Wollongong</td>\n",
       "      <td>New South Wales</td>\n",
       "      <td>...</td>\n",
       "      <td>FUR-CH-10003950</td>\n",
       "      <td>Furniture</td>\n",
       "      <td>Chairs</td>\n",
       "      <td>Novimex Executive Leather Armchair, Black</td>\n",
       "      <td>3709.395</td>\n",
       "      <td>9</td>\n",
       "      <td>0.1</td>\n",
       "      <td>-288.7650</td>\n",
       "      <td>923.63</td>\n",
       "      <td>Critical</td>\n",
       "    </tr>\n",
       "    <tr>\n",
       "      <th>2</th>\n",
       "      <td>25330</td>\n",
       "      <td>IN-2013-71249</td>\n",
       "      <td>17-10-2013</td>\n",
       "      <td>18-10-2013</td>\n",
       "      <td>First Class</td>\n",
       "      <td>CR-12730</td>\n",
       "      <td>Craig Reiter</td>\n",
       "      <td>Consumer</td>\n",
       "      <td>Brisbane</td>\n",
       "      <td>Queensland</td>\n",
       "      <td>...</td>\n",
       "      <td>TEC-PH-10004664</td>\n",
       "      <td>Technology</td>\n",
       "      <td>Phones</td>\n",
       "      <td>Nokia Smart Phone, with Caller ID</td>\n",
       "      <td>5175.171</td>\n",
       "      <td>9</td>\n",
       "      <td>0.1</td>\n",
       "      <td>919.9710</td>\n",
       "      <td>915.49</td>\n",
       "      <td>Medium</td>\n",
       "    </tr>\n",
       "    <tr>\n",
       "      <th>3</th>\n",
       "      <td>13524</td>\n",
       "      <td>ES-2013-1579342</td>\n",
       "      <td>28-01-2013</td>\n",
       "      <td>30-01-2013</td>\n",
       "      <td>First Class</td>\n",
       "      <td>KM-16375</td>\n",
       "      <td>Katherine Murray</td>\n",
       "      <td>Home Office</td>\n",
       "      <td>Berlin</td>\n",
       "      <td>Berlin</td>\n",
       "      <td>...</td>\n",
       "      <td>TEC-PH-10004583</td>\n",
       "      <td>Technology</td>\n",
       "      <td>Phones</td>\n",
       "      <td>Motorola Smart Phone, Cordless</td>\n",
       "      <td>2892.510</td>\n",
       "      <td>5</td>\n",
       "      <td>0.1</td>\n",
       "      <td>-96.5400</td>\n",
       "      <td>910.16</td>\n",
       "      <td>Medium</td>\n",
       "    </tr>\n",
       "    <tr>\n",
       "      <th>4</th>\n",
       "      <td>47221</td>\n",
       "      <td>SG-2013-4320</td>\n",
       "      <td>05-11-2013</td>\n",
       "      <td>06-11-2013</td>\n",
       "      <td>Same Day</td>\n",
       "      <td>RH-9495</td>\n",
       "      <td>Rick Hansen</td>\n",
       "      <td>Consumer</td>\n",
       "      <td>Dakar</td>\n",
       "      <td>Dakar</td>\n",
       "      <td>...</td>\n",
       "      <td>TEC-SHA-10000501</td>\n",
       "      <td>Technology</td>\n",
       "      <td>Copiers</td>\n",
       "      <td>Sharp Wireless Fax, High-Speed</td>\n",
       "      <td>2832.960</td>\n",
       "      <td>8</td>\n",
       "      <td>0.0</td>\n",
       "      <td>311.5200</td>\n",
       "      <td>903.04</td>\n",
       "      <td>Critical</td>\n",
       "    </tr>\n",
       "  </tbody>\n",
       "</table>\n",
       "<p>5 rows × 24 columns</p>\n",
       "</div>"
      ],
      "text/plain": [
       "   Row ID         Order ID  Order Date   Ship Date     Ship Mode Customer ID  \\\n",
       "0   32298   CA-2012-124891  31-07-2012  31-07-2012      Same Day    RH-19495   \n",
       "1   26341    IN-2013-77878  05-02-2013  07-02-2013  Second Class    JR-16210   \n",
       "2   25330    IN-2013-71249  17-10-2013  18-10-2013   First Class    CR-12730   \n",
       "3   13524  ES-2013-1579342  28-01-2013  30-01-2013   First Class    KM-16375   \n",
       "4   47221     SG-2013-4320  05-11-2013  06-11-2013      Same Day     RH-9495   \n",
       "\n",
       "      Customer Name      Segment           City            State  ...  \\\n",
       "0       Rick Hansen     Consumer  New York City         New York  ...   \n",
       "1     Justin Ritter    Corporate     Wollongong  New South Wales  ...   \n",
       "2      Craig Reiter     Consumer       Brisbane       Queensland  ...   \n",
       "3  Katherine Murray  Home Office         Berlin           Berlin  ...   \n",
       "4       Rick Hansen     Consumer          Dakar            Dakar  ...   \n",
       "\n",
       "         Product ID    Category Sub-Category  \\\n",
       "0   TEC-AC-10003033  Technology  Accessories   \n",
       "1   FUR-CH-10003950   Furniture       Chairs   \n",
       "2   TEC-PH-10004664  Technology       Phones   \n",
       "3   TEC-PH-10004583  Technology       Phones   \n",
       "4  TEC-SHA-10000501  Technology      Copiers   \n",
       "\n",
       "                                        Product Name     Sales Quantity  \\\n",
       "0  Plantronics CS510 - Over-the-Head monaural Wir...  2309.650        7   \n",
       "1          Novimex Executive Leather Armchair, Black  3709.395        9   \n",
       "2                  Nokia Smart Phone, with Caller ID  5175.171        9   \n",
       "3                     Motorola Smart Phone, Cordless  2892.510        5   \n",
       "4                     Sharp Wireless Fax, High-Speed  2832.960        8   \n",
       "\n",
       "  Discount    Profit  Shipping Cost  Order Priority  \n",
       "0      0.0  762.1845         933.57        Critical  \n",
       "1      0.1 -288.7650         923.63        Critical  \n",
       "2      0.1  919.9710         915.49          Medium  \n",
       "3      0.1  -96.5400         910.16          Medium  \n",
       "4      0.0  311.5200         903.04        Critical  \n",
       "\n",
       "[5 rows x 24 columns]"
      ]
     },
     "execution_count": 2,
     "metadata": {},
     "output_type": "execute_result"
    }
   ],
   "source": [
    "# Use kagglehub or manual download here\n",
    "\n",
    "df = pd.read_csv('Global_Superstore2.csv', encoding='latin1')\n",
    "\n",
    "df.head()"
   ]
  },
  {
   "cell_type": "markdown",
   "id": "5e995ea3",
   "metadata": {},
   "source": [
    "### 2b Transform – cleaning & feature engineering"
   ]
  },
  {
   "cell_type": "code",
   "execution_count": 3,
   "id": "72ca38fc",
   "metadata": {},
   "outputs": [
    {
     "data": {
      "text/plain": [
       "(   Row ID         Order ID Order Date  Ship Date     Ship Mode Customer ID  \\\n",
       " 0   32298   CA-2012-124891 2012-07-31 2012-07-31      Same Day    RH-19495   \n",
       " 1   26341    IN-2013-77878 2013-02-05 2013-02-07  Second Class    JR-16210   \n",
       " 2   25330    IN-2013-71249 2013-10-17 2013-10-18   First Class    CR-12730   \n",
       " 3   13524  ES-2013-1579342 2013-01-28 2013-01-30   First Class    KM-16375   \n",
       " 4   47221     SG-2013-4320 2013-11-05 2013-11-06      Same Day     RH-9495   \n",
       " \n",
       "       Customer Name      Segment           City            State  ...  \\\n",
       " 0       Rick Hansen     Consumer  New York City         New York  ...   \n",
       " 1     Justin Ritter    Corporate     Wollongong  New South Wales  ...   \n",
       " 2      Craig Reiter     Consumer       Brisbane       Queensland  ...   \n",
       " 3  Katherine Murray  Home Office         Berlin           Berlin  ...   \n",
       " 4       Rick Hansen     Consumer          Dakar            Dakar  ...   \n",
       " \n",
       "                                         Product Name     Sales Quantity  \\\n",
       " 0  Plantronics CS510 - Over-the-Head monaural Wir...  2309.650        7   \n",
       " 1          Novimex Executive Leather Armchair, Black  3709.395        9   \n",
       " 2                  Nokia Smart Phone, with Caller ID  5175.171        9   \n",
       " 3                     Motorola Smart Phone, Cordless  2892.510        5   \n",
       " 4                     Sharp Wireless Fax, High-Speed  2832.960        8   \n",
       " \n",
       "   Discount    Profit Shipping Cost Order Priority Shipping Delay  \\\n",
       " 0      0.0  762.1845        933.57       Critical              0   \n",
       " 1      0.1 -288.7650        923.63       Critical              2   \n",
       " 2      0.1  919.9710        915.49         Medium              1   \n",
       " 3      0.1  -96.5400        910.16         Medium              2   \n",
       " 4      0.0  311.5200        903.04       Critical              1   \n",
       " \n",
       "    Profit Margin  Dummy List  \n",
       " 0      33.000000  Technology  \n",
       " 1      -7.784693   Furniture  \n",
       " 2      17.776630  Technology  \n",
       " 3      -3.337586  Technology  \n",
       " 4      10.996272  Technology  \n",
       " \n",
       " [5 rows x 27 columns],\n",
       "           Category         Sales\n",
       " 0        Furniture  4.110874e+06\n",
       " 1  Office Supplies  3.787070e+06\n",
       " 2       Technology  4.744557e+06)"
      ]
     },
     "execution_count": 3,
     "metadata": {},
     "output_type": "execute_result"
    }
   ],
   "source": [
    "# Typical tasks: .dropna(), .astype(), explode(), new columns, aggregations\n",
    "\n",
    "#Drop rows with missing values\n",
    "df = df.dropna(subset=['Sales', 'Profit', 'Category'])\n",
    "\n",
    "#Convert 'Order Date' and 'Ship Date' to datetime\n",
    "df['Order Date'] = pd.to_datetime(df['Order Date'], format='%d-%m-%Y', errors='coerce')\n",
    "df['Ship Date'] = pd.to_datetime(df['Ship Date'], format='%d-%m-%Y', errors='coerce')\n",
    "df = df.dropna(subset=['Order Date', 'Ship Date'])\n",
    "\n",
    "#Convert 'Quantity' to integer\n",
    "df = df[df['Quantity'].notna()]\n",
    "df['Quantity'] = df['Quantity'].astype(int)\n",
    "\n",
    "#Calculate shipping delay (in days)\n",
    "df['Shipping Delay'] = (df['Ship Date'] - df['Order Date']).dt.days\n",
    "\n",
    "#Calculate profit margin percentage\n",
    "df['Profit Margin'] = (df['Profit'] / df['Sales']) * 100\n",
    "\n",
    "#Example explode\n",
    "df['Dummy List'] = df['Category'].apply(lambda x: [x])  # Wrap in list\n",
    "df = df.explode('Dummy List')\n",
    "\n",
    "#Simple aggregation: total sales per category\n",
    "category_sales = df.groupby('Category')['Sales'].sum().reset_index()\n",
    "\n",
    "#Results\n",
    "df.head(), category_sales.head()\n",
    "\n"
   ]
  },
  {
   "cell_type": "markdown",
   "id": "a94d35e4",
   "metadata": {},
   "source": [
    "### 2c Load – save to SQLite"
   ]
  },
  {
   "cell_type": "code",
   "execution_count": 6,
   "id": "12b38484",
   "metadata": {},
   "outputs": [
    {
     "name": "stdout",
     "output_type": "stream",
     "text": [
      "   Row ID         Order ID                  Order Date  \\\n",
      "0   32298   CA-2012-124891  2012-07-31 00:00:00.000000   \n",
      "1   26341    IN-2013-77878  2013-02-05 00:00:00.000000   \n",
      "2   25330    IN-2013-71249  2013-10-17 00:00:00.000000   \n",
      "3   13524  ES-2013-1579342  2013-01-28 00:00:00.000000   \n",
      "4   47221     SG-2013-4320  2013-11-05 00:00:00.000000   \n",
      "\n",
      "                    Ship Date     Ship Mode Customer ID     Customer Name  \\\n",
      "0  2012-07-31 00:00:00.000000      Same Day    RH-19495       Rick Hansen   \n",
      "1  2013-02-07 00:00:00.000000  Second Class    JR-16210     Justin Ritter   \n",
      "2  2013-10-18 00:00:00.000000   First Class    CR-12730      Craig Reiter   \n",
      "3  2013-01-30 00:00:00.000000   First Class    KM-16375  Katherine Murray   \n",
      "4  2013-11-06 00:00:00.000000      Same Day     RH-9495       Rick Hansen   \n",
      "\n",
      "       Segment           City            State  ...  \\\n",
      "0     Consumer  New York City         New York  ...   \n",
      "1    Corporate     Wollongong  New South Wales  ...   \n",
      "2     Consumer       Brisbane       Queensland  ...   \n",
      "3  Home Office         Berlin           Berlin  ...   \n",
      "4     Consumer          Dakar            Dakar  ...   \n",
      "\n",
      "                                        Product Name     Sales Quantity  \\\n",
      "0  Plantronics CS510 - Over-the-Head monaural Wir...  2309.650        7   \n",
      "1          Novimex Executive Leather Armchair, Black  3709.395        9   \n",
      "2                  Nokia Smart Phone, with Caller ID  5175.171        9   \n",
      "3                     Motorola Smart Phone, Cordless  2892.510        5   \n",
      "4                     Sharp Wireless Fax, High-Speed  2832.960        8   \n",
      "\n",
      "  Discount    Profit Shipping Cost Order Priority Shipping Delay  \\\n",
      "0      0.0  762.1845        933.57       Critical              0   \n",
      "1      0.1 -288.7650        923.63       Critical              2   \n",
      "2      0.1  919.9710        915.49         Medium              1   \n",
      "3      0.1  -96.5400        910.16         Medium              2   \n",
      "4      0.0  311.5200        903.04       Critical              1   \n",
      "\n",
      "   Profit Margin  Dummy List  \n",
      "0      33.000000  Technology  \n",
      "1      -7.784693   Furniture  \n",
      "2      17.776630  Technology  \n",
      "3      -3.337586  Technology  \n",
      "4      10.996272  Technology  \n",
      "\n",
      "[5 rows x 27 columns]\n"
     ]
    }
   ],
   "source": [
    "import sqlite3\n",
    "from sqlalchemy import create_engine\n",
    "\n",
    "engine = create_engine('sqlite:///project.db')\n",
    "# Save your DataFrame to the SQLite db, giving the table a meaningful name\n",
    "df.to_sql('superstore_data', con=engine, index=False, if_exists='replace')\n",
    "\n",
    "df_check = pd.read_sql('SELECT * FROM superstore_data LIMIT 5', con=engine)\n",
    "\n",
    "#Result\n",
    "print(df_check)"
   ]
  },
  {
   "cell_type": "markdown",
   "id": "a403b362",
   "metadata": {},
   "source": [
    "### Q2 Rubric – ETL Pipeline\n",
    "\n",
    "| Sub-task | Criteria | Pts |\n",
    "|----------|----------|-----|\n",
    "| **2a & 2b  Cleaning & transformation** | Applies appropriate pandas cleaning techniques (`dropna`, `astype`, deduplication, etc.) | **10** |\n",
    "| **2b  Feature engineering / aggregation** | Creates **≥ 1** new meaningful column *or* aggregated table (e.g., groupby summary) | **10** |\n",
    "| **2c  Load to SQLite** | Writes the cleaned DataFrame(s) to `project.db` without errors (`to_sql`, correct schema) | **5** |\n",
    "| **Section total** |   | **25 pts** |\n"
   ]
  },
  {
   "cell_type": "markdown",
   "id": "27fbbbdc",
   "metadata": {},
   "source": [
    "## Q3  Analytical findings 💯 (30 pts)\n",
    "\n",
    "In this section, you will reference the cleaned dataframe you created in step 2b.  \n",
    "\n",
    "Each finding section will display:\n",
    "1. What is the question you posed of the data.\n",
    "2. A description of the code logic that was used to answer the question. This is a high-level overview (1-3 sentences) of the code's process.\n",
    "3. The answer or findings to the question.  This is a descriptive answer, with numbers referenced if applicable.\n",
    "    4. Note that the pandas code that produces the answer will reflect and support your findings/answer.\n",
    "    5. Each Finding block must finish with one pandas DataFrame showing the key numbers that appear in your narrative."
   ]
  },
  {
   "cell_type": "markdown",
   "id": "e2ac2845",
   "metadata": {},
   "source": [
    "### Finding 1\n",
    "\n",
    "**Question:** Which product sub-categories are the most frequently ordered?\n",
    "\n",
    "**Method:** (one‑sentence summary of your pandas logic)\n",
    "**Answer:** Used value_counts on 'sub-category' column to count the frequency of each sub category in the dataset to identify most popular sub-categories.\n",
    "\n",
    "Write your narrative above, then run the code cell below to compute it"
   ]
  },
  {
   "cell_type": "code",
   "execution_count": 14,
   "id": "1fbcec65",
   "metadata": {},
   "outputs": [
    {
     "data": {
      "text/html": [
       "<div>\n",
       "<style scoped>\n",
       "    .dataframe tbody tr th:only-of-type {\n",
       "        vertical-align: middle;\n",
       "    }\n",
       "\n",
       "    .dataframe tbody tr th {\n",
       "        vertical-align: top;\n",
       "    }\n",
       "\n",
       "    .dataframe thead th {\n",
       "        text-align: right;\n",
       "    }\n",
       "</style>\n",
       "<table border=\"1\" class=\"dataframe\">\n",
       "  <thead>\n",
       "    <tr style=\"text-align: right;\">\n",
       "      <th></th>\n",
       "      <th>Sub-Category</th>\n",
       "      <th>Count</th>\n",
       "    </tr>\n",
       "  </thead>\n",
       "  <tbody>\n",
       "    <tr>\n",
       "      <th>0</th>\n",
       "      <td>Binders</td>\n",
       "      <td>6152</td>\n",
       "    </tr>\n",
       "    <tr>\n",
       "      <th>1</th>\n",
       "      <td>Storage</td>\n",
       "      <td>5059</td>\n",
       "    </tr>\n",
       "    <tr>\n",
       "      <th>2</th>\n",
       "      <td>Art</td>\n",
       "      <td>4883</td>\n",
       "    </tr>\n",
       "    <tr>\n",
       "      <th>3</th>\n",
       "      <td>Paper</td>\n",
       "      <td>3538</td>\n",
       "    </tr>\n",
       "    <tr>\n",
       "      <th>4</th>\n",
       "      <td>Chairs</td>\n",
       "      <td>3434</td>\n",
       "    </tr>\n",
       "  </tbody>\n",
       "</table>\n",
       "</div>"
      ],
      "text/plain": [
       "  Sub-Category  Count\n",
       "0      Binders   6152\n",
       "1      Storage   5059\n",
       "2          Art   4883\n",
       "3        Paper   3538\n",
       "4       Chairs   3434"
      ]
     },
     "execution_count": 14,
     "metadata": {},
     "output_type": "execute_result"
    }
   ],
   "source": [
    "# pandas code producing the answer\n",
    "\n",
    "sub_category_counts = df['Sub-Category'].value_counts().reset_index()\n",
    "sub_category_counts.columns = ['Sub-Category', 'Count']\n",
    "\n",
    "# Display the results (optional)\n",
    "sub_category_counts.head()"
   ]
  },
  {
   "cell_type": "markdown",
   "id": "e7295a61",
   "metadata": {},
   "source": [
    "### Finding 2\n",
    "**Question:**  Which product category generates the highest average profit?\n",
    "**Method:** *(one‑sentence summary of your pandas logic)*  \n",
    "**Answer:**  Grouped the category column and calculated the mean of profit values for each group to determine which categoy has the highest average profit\n",
    "\n",
    "_Write your narrative above, then run the code cell below to compute it._"
   ]
  },
  {
   "cell_type": "code",
   "execution_count": 8,
   "id": "bc923805",
   "metadata": {},
   "outputs": [
    {
     "data": {
      "text/html": [
       "<div>\n",
       "<style scoped>\n",
       "    .dataframe tbody tr th:only-of-type {\n",
       "        vertical-align: middle;\n",
       "    }\n",
       "\n",
       "    .dataframe tbody tr th {\n",
       "        vertical-align: top;\n",
       "    }\n",
       "\n",
       "    .dataframe thead th {\n",
       "        text-align: right;\n",
       "    }\n",
       "</style>\n",
       "<table border=\"1\" class=\"dataframe\">\n",
       "  <thead>\n",
       "    <tr style=\"text-align: right;\">\n",
       "      <th></th>\n",
       "      <th>Category</th>\n",
       "      <th>Profit</th>\n",
       "    </tr>\n",
       "  </thead>\n",
       "  <tbody>\n",
       "    <tr>\n",
       "      <th>0</th>\n",
       "      <td>Furniture</td>\n",
       "      <td>28.878567</td>\n",
       "    </tr>\n",
       "    <tr>\n",
       "      <th>1</th>\n",
       "      <td>Office Supplies</td>\n",
       "      <td>16.578961</td>\n",
       "    </tr>\n",
       "    <tr>\n",
       "      <th>2</th>\n",
       "      <td>Technology</td>\n",
       "      <td>65.454958</td>\n",
       "    </tr>\n",
       "  </tbody>\n",
       "</table>\n",
       "</div>"
      ],
      "text/plain": [
       "          Category     Profit\n",
       "0        Furniture  28.878567\n",
       "1  Office Supplies  16.578961\n",
       "2       Technology  65.454958"
      ]
     },
     "execution_count": 8,
     "metadata": {},
     "output_type": "execute_result"
    }
   ],
   "source": [
    "# pandas code producing the answer\n",
    "avg_profit = df.groupby('Category')['Profit'].mean().reset_index()\n",
    "\n",
    "#Result\n",
    "avg_profit"
   ]
  },
  {
   "cell_type": "markdown",
   "id": "a12c2369",
   "metadata": {},
   "source": [
    "### Finding 3\n",
    "**Question:**  Which customer segment generates the highest total profit?\n",
    "**Method:** *(one‑sentence summary of your pandas logic)*  \n",
    "**Answer:**  Grouped 'segment' column and summed the profit values to compare total profits acorss each customer segment.\n",
    "\n",
    "_Write your narrative above, then run the code cell below to compute it._"
   ]
  },
  {
   "cell_type": "code",
   "execution_count": 10,
   "id": "07587236",
   "metadata": {},
   "outputs": [
    {
     "data": {
      "text/html": [
       "<div>\n",
       "<style scoped>\n",
       "    .dataframe tbody tr th:only-of-type {\n",
       "        vertical-align: middle;\n",
       "    }\n",
       "\n",
       "    .dataframe tbody tr th {\n",
       "        vertical-align: top;\n",
       "    }\n",
       "\n",
       "    .dataframe thead th {\n",
       "        text-align: right;\n",
       "    }\n",
       "</style>\n",
       "<table border=\"1\" class=\"dataframe\">\n",
       "  <thead>\n",
       "    <tr style=\"text-align: right;\">\n",
       "      <th></th>\n",
       "      <th>Segment</th>\n",
       "      <th>Profit</th>\n",
       "    </tr>\n",
       "  </thead>\n",
       "  <tbody>\n",
       "    <tr>\n",
       "      <th>0</th>\n",
       "      <td>Consumer</td>\n",
       "      <td>749240</td>\n",
       "    </tr>\n",
       "    <tr>\n",
       "      <th>1</th>\n",
       "      <td>Corporate</td>\n",
       "      <td>441208</td>\n",
       "    </tr>\n",
       "    <tr>\n",
       "      <th>2</th>\n",
       "      <td>Home Office</td>\n",
       "      <td>277009</td>\n",
       "    </tr>\n",
       "  </tbody>\n",
       "</table>\n",
       "</div>"
      ],
      "text/plain": [
       "       Segment  Profit\n",
       "0     Consumer  749240\n",
       "1    Corporate  441208\n",
       "2  Home Office  277009"
      ]
     },
     "execution_count": 10,
     "metadata": {},
     "output_type": "execute_result"
    }
   ],
   "source": [
    "# pandas code producing the answer\n",
    "segment_profit = df.groupby('Segment')['Profit'].sum().reset_index()\n",
    "\n",
    "#Round as it looks cleaner\n",
    "segment_profit['Profit'] = segment_profit['Profit'].round(0).astype(int)\n",
    "\n",
    "#Result\n",
    "segment_profit"
   ]
  },
  {
   "cell_type": "markdown",
   "id": "c336c8e2-58d1-42a6-984c-e0afda2ff826",
   "metadata": {},
   "source": [
    "#### Q3 Rubric\n",
    "\n",
    "| Component | Criteria | Points per finding |\n",
    "|-----------|----------|--------------------|\n",
    "| **Narrative clarity** | • States a **specific** question or hypothesis<br>• Summarises the answer in plain English<br>• ≤ 120 words, grammatically sound | **3 pts** |\n",
    "| **Code correctness & reproducibility** | • Uses pandas and/or SQL to produce the stated result<br>• Runs without errors after **Kernel ▸ Restart & Run All**<br>• Shows only essential steps (no orphan vars) | **4 pts** |\n",
    "| **Tabular evidence** | • Displays a concise DataFrame (≤ 10 rows × 5 cols) **or** a scalar value matching the narrative<br>• Columns clearly named; units (if any) included | **3 pts** |\n",
    "\n",
    "**Total per finding:** **10 pts**  \n",
    "Three findings × 10 pts = **30 pts**\n"
   ]
  },
  {
   "cell_type": "markdown",
   "id": "6ccfdd9d",
   "metadata": {},
   "source": [
    "## Q4  Visual communication 💯 (20 pts)"
   ]
  },
  {
   "cell_type": "markdown",
   "id": "b10f6078",
   "metadata": {},
   "source": [
    "**Generate one chart per finding below.**\n",
    "\n",
    "This can be either:\n",
    "* Visual representations of the findings in the last section\n",
    "* Visuals of the data that helped you in determining the direction you chose to go with the data\n",
    "\n",
    "Remember: Basic statistical visualizations may not suffice, especially if the statistics have no bearing on your findings.\n",
    "\n",
    "**Requirements for all visualizations:**\n",
    "1. Title & axes labels are mandatory —every chart must call plt.title() and label both axes (or legend if an axis is categorical).\n",
    "2. One chart per code cell —no sub-plots or multiple figures in the same cell.\n",
    "3. Chart type must fit the data —pick an appropriate visual (bar for categories, line for trends, scatter for correlation, etc.).\n",
    "4. Legible & uncluttered —limit categories/points so labels don’t overlap; use consistent font sizes and plt.tight_layout() when needed.\n",
    "5. Consistent styling —use a coherent colour palette across all three charts and include a legend when more than one series appears."
   ]
  },
  {
   "cell_type": "markdown",
   "id": "b95fbd99",
   "metadata": {},
   "source": [
    "### Chart for Finding 1"
   ]
  },
  {
   "cell_type": "code",
   "execution_count": 20,
   "id": "2721ad3c",
   "metadata": {},
   "outputs": [
    {
     "data": {
      "image/png": "[encoded data removed]",
      "text/plain": [
       "<Figure size 640x480 with 1 Axes>"
      ]
     },
     "metadata": {},
     "output_type": "display_data"
    }
   ],
   "source": [
    "# e.g. df.plot(kind='bar'); plt.title('...')\n",
    "#Which product sub-categories are the most frequently ordered?\n",
    "import matplotlib.pyplot as plt\n",
    "\n",
    "sub_category_counts = df['Sub-Category'].value_counts().reset_index()\n",
    "sub_category_counts.columns = ['Sub-Category', 'Count']\n",
    "\n",
    "# Plot the data (Bar chart)\n",
    "sub_category_counts.plot(kind='bar', x='Sub-Category', y='Count', legend=False, color='lightgreen')\n",
    "plt.title('Most Common Product Sub-Categories')\n",
    "plt.xlabel('Product Sub-Category')\n",
    "plt.ylabel('Number of Orders') \n",
    "plt.tight_layout()\n",
    "plt.show()"
   ]
  },
  {
   "cell_type": "markdown",
   "id": "bcb1ec6c",
   "metadata": {},
   "source": [
    "### Chart for Finding 2"
   ]
  },
  {
   "cell_type": "code",
   "execution_count": 17,
   "id": "94bba702",
   "metadata": {},
   "outputs": [
    {
     "data": {
      "image/png": "[encoded data removed]",
      "text/plain": [
       "<Figure size 640x480 with 1 Axes>"
      ]
     },
     "metadata": {},
     "output_type": "display_data"
    }
   ],
   "source": [
    "# e.g. df.plot(kind='bar'); plt.title('...')\n",
    "\n",
    "#Average profit per category (horizontal bar chart)\n",
    "import matplotlib.pyplot as plt\n",
    "\n",
    "avg_profit.plot(kind='barh', x='Category', y='Profit', legend=False, color='orange')\n",
    "plt.title('Average Profit by Product Category')\n",
    "plt.xlabel('Average Profit ($)')\n",
    "plt.ylabel('Product Category')\n",
    "plt.tight_layout()\n",
    "plt.show()"
   ]
  },
  {
   "cell_type": "markdown",
   "id": "7a11877b",
   "metadata": {},
   "source": [
    "### Chart for Finding 3"
   ]
  },
  {
   "cell_type": "code",
   "execution_count": 24,
   "id": "3efb6b48",
   "metadata": {},
   "outputs": [
    {
     "data": {
      "image/png": "[encoded data removed]",
      "text/plain": [
       "<Figure size 1000x1000 with 1 Axes>"
      ]
     },
     "metadata": {},
     "output_type": "display_data"
    }
   ],
   "source": [
    "# e.g. df.plot(kind='bar'); plt.title('...')\n",
    "\n",
    "#Which customer segment generates the highest total profit\n",
    "import matplotlib.pyplot as plt\n",
    "\n",
    "plt.figure(figsize=(10,10))\n",
    "plt.pie(segment_profit['Profit'], labels=segment_profit['Segment'], autopct='%1.1f%%', startangle=90, colors=['skyblue', 'pink', 'orange'])\n",
    "plt.title('Total Profit by Customer Segment')\n",
    "plt.show()"
   ]
  },
  {
   "cell_type": "markdown",
   "id": "2d834e00-0825-4811-a2ef-7386aef98058",
   "metadata": {},
   "source": [
    "#### Q4  Rubric – Visual Communication\n",
    "\n",
    "The section requires **three** separate charts (one per finding).  \n",
    "Each chart is worth **6 pts**, and 2 pts are reserved for code hygiene.\n",
    "\n",
    "| For **each** chart | What we’re looking for | Pts |\n",
    "|--------------------|-----------------------|-----|\n",
    "| **Technical correctness** | Chart executes without error; chosen type matches the data | **2** |\n",
    "| **Annotation quality** | Descriptive title **and** properly labelled axes (legend if needed) | **2** |\n",
    "| **Clarity & alignment** | Readable layout (no label overlap, sensible scales) **and** the graphic clearly supports its finding | **2** |\n",
    "| **Subtotal per chart** |   | **6 pts** |\n",
    "\n",
    "**3 charts × 6 pts = 18 pts**\n",
    "\n",
    "| Overall notebook | Criteria | Pts |\n",
    "|------------------|----------|-----|\n",
    "| **Code hygiene** | One chart per cell, consistent styling, tidy comments | **2 pts** |\n",
    "\n",
    "| **Section total** |   | **20 pts** |\n",
    "\n"
   ]
  },
  {
   "cell_type": "markdown",
   "id": "c0ac2931",
   "metadata": {},
   "source": [
    "## Q5  Reproducibility & reflection 💯 (15 pts)"
   ]
  },
  {
   "cell_type": "markdown",
   "id": "ef48aa69",
   "metadata": {},
   "source": [
    "### 5a Sample SQL\n",
    "\n",
    "Using SQL only, a technique to get a sample of the data.  This can be done any way you want.\n",
    "\n",
    "You must describe what the SQL is doing and why that SQL logic is returning a sample (subset) of the data."
   ]
  },
  {
   "cell_type": "markdown",
   "id": "e434a861-91a8-4ad0-b5b4-dd0b994ebf94",
   "metadata": {},
   "source": [
    "### 5 a  Sample SQL (basic proficiency)\n",
    "\n",
    "Write **one** `SELECT` statement against the `project.db` SQLite file you created.  your SQL statement will return a smaller dataset. This can be done by using one of three options:  \n",
    "\n",
    "* filter rows with a `WHERE` clause  \n",
    "* limit the output with `LIMIT n`  \n",
    "* perform a simple aggregation with `GROUP BY` (e.g., `COUNT(*)`, `AVG()`, or `SUM()`)\n",
    "\n",
    "The query should reproduce—or directly support—**any numeric result** you cited in Findings 1-3.\n",
    "\n",
    "1. Paste the SQL in a code block below, assigning it to a variable.\n",
    "2. Reference that SQL in your read_sql statement.\n",
    "\n"
   ]
  },
  {
   "cell_type": "code",
   "execution_count": 31,
   "id": "d3115acd-1d2d-49f2-b0c6-1963c42d2dbc",
   "metadata": {},
   "outputs": [],
   "source": [
    "# sql string goes here\n",
    "\n",
    "#Which customer segment generates the highest total profit\n",
    "sql_query = \"\"\"\n",
    "SELECT Segment, SUM(Profit) AS Total_Profit\n",
    "FROM superstore_data\n",
    "WHERE Profit > 0 \n",
    "GROUP BY Segment\n",
    "ORDER BY Total_Profit DESC\n",
    "\"\"\""
   ]
  },
  {
   "cell_type": "code",
   "execution_count": 32,
   "id": "85724792",
   "metadata": {},
   "outputs": [
    {
     "data": {
      "text/html": [
       "<div>\n",
       "<style scoped>\n",
       "    .dataframe tbody tr th:only-of-type {\n",
       "        vertical-align: middle;\n",
       "    }\n",
       "\n",
       "    .dataframe tbody tr th {\n",
       "        vertical-align: top;\n",
       "    }\n",
       "\n",
       "    .dataframe thead th {\n",
       "        text-align: right;\n",
       "    }\n",
       "</style>\n",
       "<table border=\"1\" class=\"dataframe\">\n",
       "  <thead>\n",
       "    <tr style=\"text-align: right;\">\n",
       "      <th></th>\n",
       "      <th>Segment</th>\n",
       "      <th>Total_Profit</th>\n",
       "    </tr>\n",
       "  </thead>\n",
       "  <tbody>\n",
       "    <tr>\n",
       "      <th>0</th>\n",
       "      <td>Consumer</td>\n",
       "      <td>1.226597e+06</td>\n",
       "    </tr>\n",
       "    <tr>\n",
       "      <th>1</th>\n",
       "      <td>Corporate</td>\n",
       "      <td>7.162974e+05</td>\n",
       "    </tr>\n",
       "    <tr>\n",
       "      <th>2</th>\n",
       "      <td>Home Office</td>\n",
       "      <td>4.452088e+05</td>\n",
       "    </tr>\n",
       "  </tbody>\n",
       "</table>\n",
       "</div>"
      ],
      "text/plain": [
       "       Segment  Total_Profit\n",
       "0     Consumer  1.226597e+06\n",
       "1    Corporate  7.162974e+05\n",
       "2  Home Office  4.452088e+05"
      ]
     },
     "execution_count": 32,
     "metadata": {},
     "output_type": "execute_result"
    }
   ],
   "source": [
    "import pandas as pd, sqlite3\n",
    "con = sqlite3.connect('project.db')\n",
    "# sample_df = pd.read_sql(sql string from prior code block, con)\n",
    "\n",
    "con = sqlite3.connect('project.db')\n",
    "sample_df = pd.read_sql(sql_query, con)\n",
    "con.close()\n",
    "\n",
    "sample_df"
   ]
  },
  {
   "cell_type": "markdown",
   "id": "07d2954c-d003-44c2-98c2-c3c2cbb1f276",
   "metadata": {},
   "source": [
    "*(describe your SQL logic here)*\n",
    "#The SQL calculates the total profit generated by each customer segment in superstore_data table. It filters the dataset to include only rows where profit is greater than sezo to focus on segments that contribute dpositively. The group by aggregates prifts by segment and SUM(Profit) calculates total profit per group and then orders the results in descending order"
   ]
  },
  {
   "cell_type": "code",
   "execution_count": null,
   "id": "ba79ef55-c55b-4b7d-85e2-5d498536860f",
   "metadata": {},
   "outputs": [],
   "source": []
  },
  {
   "cell_type": "markdown",
   "id": "960de56d",
   "metadata": {},
   "source": [
    "### 5b Limitations / next steps"
   ]
  },
  {
   "cell_type": "markdown",
   "id": "eff8c8f5",
   "metadata": {},
   "source": [
    "_In 2–3 sentences, discuss data limitations, assumptions, and future work._\n",
    "#Some limitations of this dataset is that it does not include customer demographics, regional economic conditionrs or competitor pricng, which would provide deeper context to understanding sales and profit patters. Additionally, while the data has been cleaned there may still be inconsiticies or gaps that could affect the analysis. Future work could involve integrating external datasets and developing predictive models to display profitbaility or market trends.   "
   ]
  },
  {
   "cell_type": "markdown",
   "id": "b5d87365-be4d-4877-807b-19644d0044dd",
   "metadata": {},
   "source": [
    "### Q5 Rubric – SQL & Reflection\n",
    "\n",
    "| Sub-task | Criteria | Pts |\n",
    "|----------|----------|-----|\n",
    "| **5 a  SQL query & result** | Query executes without error on `project.db` | **3** |\n",
    "| | Uses **at least one** of: `WHERE`, `LIMIT`, `GROUP BY` + aggregate | **4** |\n",
    "| | Result reproduced in a DataFrame | **3** |\n",
    "| **Subtotal 5 a** |   | **10** |\n",
    "| **5 b  Limitations & next steps** | Identifies ≥ 2 data limitations **and** ≥ 1 future improvement | **3** |\n",
    "| | Clear, concise writing (≤ 150 words; no jargon) | **2** |\n",
    "| **Subtotal 5 b** |   | **5** |\n",
    "| **Section total** |   | **15 pts** |\n"
   ]
  }
 ],
 "metadata": {
  "kernelspec": {
   "display_name": "Python 3 (ipykernel)",
   "language": "python",
   "name": "python3"
  },
  "language_info": {
   "codemirror_mode": {
    "name": "ipython",
    "version": 3
   },
   "file_extension": ".py",
   "mimetype": "text/x-python",
   "name": "python",
   "nbconvert_exporter": "python",
   "pygments_lexer": "ipython3",
   "version": "3.12.5"
  }
 },
 "nbformat": 4,
 "nbformat_minor": 5
}
