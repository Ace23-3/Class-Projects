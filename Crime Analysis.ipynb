{
 "cells": [
  {
   "cell_type": "code",
   "execution_count": 1,
   "id": "cbdf1418-7f06-420c-892f-8847624c8f70",
   "metadata": {},
   "outputs": [
    {
     "name": "stdout",
     "output_type": "stream",
     "text": [
      "                                Variable      r  p-value Direction  \\\n",
      "0               Single Parent Households  0.418   0.0023  Positive   \n",
      "1                          Median Income -0.099   0.4873  Negative   \n",
      "2                      Unemployment Rate  0.340   0.0147  Positive   \n",
      "3  Substance Use Disorder (18+ Estimate)  0.328   0.0186  Positive   \n",
      "4     Any Mental Disorder (18+ Estimate) -0.004   0.9794  Negative   \n",
      "\n",
      "   Significant (p < 0.05)  \n",
      "0                    True  \n",
      "1                   False  \n",
      "2                    True  \n",
      "3                    True  \n",
      "4                   False  \n"
     ]
    }
   ],
   "source": [
    "import pandas as pd\n",
    "from scipy import stats\n",
    "\n",
    "file_path = \"Gil-Baptiste- Assignment #3 Curated Data SS-3.xlsx\"\n",
    "df = pd.read_excel(file_path, sheet_name=\"Curated Data\")\n",
    "\n",
    "# Define the target and input variables\n",
    "target = \"Violent Crime Per 100k\"\n",
    "variables = [\n",
    "    \"Single Parent Households\",\n",
    "    \"Median Income\",\n",
    "    \"Unemployment Rate\",\n",
    "    \"Substance Use Disorder (18+ Estimate)\",\n",
    "    \"Any Mental Disorder (18+ Estimate)\"\n",
    "]\n",
    "\n",
    "# Calculate r and p-values\n",
    "results = []\n",
    "for var in variables:\n",
    "    r, p = stats.pearsonr(df[var], df[target])\n",
    "    results.append({\n",
    "        \"Variable\": var,\n",
    "        \"r\": round(r, 3),\n",
    "        \"p-value\": round(p, 4),\n",
    "        \"Direction\": \"Positive\" if r > 0 else \"Negative\" if r < 0 else \"None\",\n",
    "        \"Significant (p < 0.05)\": p < 0.05\n",
    "    })\n",
    "\n",
    "# Convert to DataFrame for display\n",
    "results_df = pd.DataFrame(results)\n",
    "print(results_df)"
   ]
  },
  {
   "cell_type": "code",
   "execution_count": null,
   "id": "bf635167-9837-457b-a4d3-2f87533d4097",
   "metadata": {},
   "outputs": [],
   "source": []
  }
 ],
 "metadata": {
  "kernelspec": {
   "display_name": "Python 3 (ipykernel)",
   "language": "python",
   "name": "python3"
  },
  "language_info": {
   "codemirror_mode": {
    "name": "ipython",
    "version": 3
   },
   "file_extension": ".py",
   "mimetype": "text/x-python",
   "name": "python",
   "nbconvert_exporter": "python",
   "pygments_lexer": "ipython3",
   "version": "3.12.5"
  }
 },
 "nbformat": 4,
 "nbformat_minor": 5
}
